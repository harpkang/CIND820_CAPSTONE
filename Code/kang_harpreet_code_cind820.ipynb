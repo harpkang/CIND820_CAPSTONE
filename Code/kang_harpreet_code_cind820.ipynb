{
 "cells": [
  {
   "cell_type": "code",
   "execution_count": 1,
   "metadata": {},
   "outputs": [
    {
     "data": {
      "text/plain": [
       "'\\nCapstone Project: CIND820 \\nHarpreet Kang\\nJune 7, 2024\\n'"
      ]
     },
     "execution_count": 1,
     "metadata": {},
     "output_type": "execute_result"
    }
   ],
   "source": [
    "'''\n",
    "Capstone Project: CIND820 \n",
    "Harpreet Kang\n",
    "June 7, 2024\n",
    "'''"
   ]
  },
  {
   "cell_type": "code",
   "execution_count": 2,
   "metadata": {},
   "outputs": [],
   "source": [
    "%matplotlib inline\n",
    "from ydata_profiling import ProfileReport\n",
    "import pandas as pd\n",
    "import numpy as np\n",
    "from IPython.display import display\n",
    "import matplotlib.pyplot as plt\n",
    "import seaborn as sns\n",
    "from sklearn.preprocessing import MinMaxScaler, OneHotEncoder, KBinsDiscretizer\n",
    "from sklearn.compose import ColumnTransformer\n",
    "from sklearn.pipeline import Pipeline\n",
    "from sklearn.ensemble import RandomForestRegressor\n",
    "from sklearn.model_selection import RandomizedSearchCV,KFold, cross_val_score, train_test_split\n",
    "from sklearn.metrics import mean_squared_error, r2_score, mean_absolute_error, accuracy_score, confusion_matrix, classification_report\n",
    "from scipy import stats\n",
    "import statsmodels.api as sm\n",
    "from mlxtend.frequent_patterns import apriori, association_rules\n",
    "from sklearn.neighbors import KNeighborsRegressor\n",
    "from xgboost import XGBRegressor\n",
    "from sklearn.linear_model import LinearRegression\n",
    "from sklearn.tree import DecisionTreeRegressor\n",
    "from sklearn.svm import SVR\n",
    "from sklearn.linear_model import LogisticRegression\n",
    "from sklearn.tree import DecisionTreeClassifier\n",
    "from sklearn.linear_model import LogisticRegression\n",
    "from sklearn.ensemble import RandomForestClassifier\n",
    "from sklearn.naive_bayes import GaussianNB\n",
    "from sklearn.svm import SVC\n",
    "from sklearn.neighbors import KNeighborsClassifier\n",
    "from sklearn.neural_network import MLPRegressor\n",
    "from sklearn.ensemble import GradientBoostingRegressor\n",
    "\n",
    "# Loading the libraries"
   ]
  },
  {
   "cell_type": "code",
   "execution_count": 3,
   "metadata": {},
   "outputs": [],
   "source": [
    "pd.set_option('display.max_columns', None)\n",
    "pd.set_option('display.max_rows', None)\n",
    "# Displaying all the columns and rows"
   ]
  },
  {
   "cell_type": "code",
   "execution_count": 4,
   "metadata": {},
   "outputs": [],
   "source": [
    "data = pd.read_excel('dataset_lfs_2024.xlsx')\n",
    "# Loading the data"
   ]
  },
  {
   "cell_type": "code",
   "execution_count": 5,
   "metadata": {},
   "outputs": [],
   "source": [
    "data.dropna(subset=[\"HRLYEARN\"],inplace=True)\n",
    "# Removing the null values in HRLYEARN column\n",
    "data=data[data['MJH']==1]\n",
    "# Filtering for single job holders\n",
    "data=data[data['SCHOOLN']==1]\n",
    "# Filtering for non students\n",
    "data=data[data['FTPTMAIN']==1]\n",
    "# Filtering for full-time workers\n",
    "data=data[data['PERMTEMP']==1]\n",
    "# Filtering for permanent workers\n",
    "data['HRLYEARN']=data['HRLYEARN']/100\n",
    "# The data dictionary for this dataset indicated that the last 2 values of this numeric column were the decimal points. So dividing the HRLYEARN column by 100 will add 2 decimal points. \n",
    "data['UHRSMAIN']=data['UHRSMAIN']/10\n",
    "data['AHRSMAIN']=data['AHRSMAIN']/10\n",
    "data['UTOTHRS']=data['UTOTHRS']/10\n",
    "data['ATOTHRS']=data['ATOTHRS']/10\n",
    "data['HRSAWAY']=data['HRSAWAY']/10\n",
    "data['PAIDOT']=data['PAIDOT']/10\n",
    "data['UNPAIDOT']=data['UNPAIDOT']/10\n",
    "data['XTRAHRS']=data['XTRAHRS']/10\n",
    "# The data dictionary for this dataset indicated that the last 1 decimial of the 8 numeric columns above were the decimal points\n",
    "# So dividing the UHRSMAIN column by 00 will add 1 decimal points.\n",
    "# For HRLYEARN, it was the last two decimal points"
   ]
  },
  {
   "cell_type": "code",
   "execution_count": 6,
   "metadata": {},
   "outputs": [],
   "source": [
    "#profile1 = ProfileReport(data, title=\"Profiling Report\")\n",
    "#profile1.to_file(\"EDA after eliminating blanks of Usual Hourly Wages (HRLYEARN).html\")\n",
    "# Generating the profiling report after removing the null values in HRLYEARN column"
   ]
  },
  {
   "cell_type": "code",
   "execution_count": 7,
   "metadata": {},
   "outputs": [],
   "source": [
    "# Caclulating the high imbalances for variables: LFSSTAT ,MJH, FTPTMAIN, PERMTEMP, SCHOOLN ,HRSAWAY, PAIDOT, UNPAIDOT, XTRAHRS\n",
    "\n",
    "#for column in ['LFSSTAT','MJH','FTPTMAIN','PERMTEMP','SCHOOLN','HRSAWAY','PAIDOT','UNPAIDOT','XTRAHRS']:\n",
    "    #print(data[column].value_counts(normalize=True)*100)   "
   ]
  },
  {
   "cell_type": "code",
   "execution_count": 8,
   "metadata": {},
   "outputs": [],
   "source": [
    "full_variable_name_mapping={\n",
    "'rec_num':'Order of record in file',\n",
    "'survyear':'Survey year',\n",
    "'survmnth':'Survey month',\n",
    "'lfsstat':'Labour force status',\n",
    "'prov':'Province',\n",
    "'cma':'Nine largest CMAs',\n",
    "'age_12':'Five-year age group of respondent',\n",
    "'age_6':'Age in 2 and 3 year groups, 15 to 29',\n",
    "'sex':'Sex of respondent',\n",
    "'marstat':'Marital status of respondent',\n",
    "'educ':'Highest educational attainment',\n",
    "'mjh':'Single or multiple jobholder',\n",
    "'everwork':'Identifies if a person has worked in the last year',\n",
    "'ftptlast':'Full- or part-time status of last job',\n",
    "'cowmain':'Class of worker, main job',\n",
    "'immig':'Immigrant status',\n",
    "'naics_21':'Industry of main job',\n",
    "'noc_10':'Occupation at main job (noc_10)',\n",
    "'noc_43':'Occupation at main job (noc_43)',\n",
    "'yabsent':'Reason of absence, full week',\n",
    "'wksaway':'Number of weeks absent from work',\n",
    "'payaway':'Paid for time off, full-week absence only',\n",
    "'uhrsmain':'Usual hours worked per week at main job',\n",
    "'ahrsmain':'Actual hours worked per week at main job',\n",
    "'ftptmain':'Full- or part-time status at main or only job',\n",
    "'utothrs':'Usual hours worked per week at all jobs',\n",
    "'atothrs':'Actual hours worked per week at all jobs',\n",
    "'hrsaway':'Hours away from work, part-week absence only',\n",
    "'yaway':'Reason for part-week absence',\n",
    "'paidot':'Paid overtime hours in reference week',\n",
    "'unpaidot':'Unpaid overtime hours in reference week',\n",
    "'xtrahrs':'Number of overtime or extra hours worked',\n",
    "'whypt':'Reason for part-time work',\n",
    "'tenure':'Job tenure with current employer',\n",
    "'prevten':'Job tenure with previous employer',\n",
    "'hrlyearn':'Usual hourly wages',\n",
    "'union':'Union status',\n",
    "'permtemp':'Job permanency',\n",
    "'estsize':'Establishment size',\n",
    "'firmsize':'Firm size',\n",
    "'durunemp':'Duration of unemployment',\n",
    "'flowunem':'Flows into unemployment',\n",
    "'unemftpt':'Job seekers by type of work sought and temporary layoffs by work status of last job',\n",
    "'whylefto':'Reason for leaving job during previous year (whylefto)',\n",
    "'whyleftn':'Reason for leaving job during previous year (whyleftn)',\n",
    "'durjless':'Duration of joblessness',\n",
    "'availabl':'Availability during the reference week',\n",
    "'lkpubag':'Unemployed, used public employment agency',\n",
    "'lkemploy':'Unemployed, checked with employers directly',\n",
    "'lkrels':'Unemployed, checked with friends or relatives',\n",
    "'lkatads':'Unemployed, looked at job ads',\n",
    "'lkansads':'Unemployed, placed or answered ads',\n",
    "'lkothern':'Unemployed, other methods',\n",
    "'prioract':'Main activity before started looking for work',\n",
    "'ynolook':'Reason for not looking for work during the reference week',\n",
    "'tlolook':'Temporary layoff, looked for work during the last four weeks',\n",
    "'schooln':'Current student status',\n",
    "'efamtype':'Type of economic family',\n",
    "'agyownk':'Age of youngest child',\n",
    "'finalwt':'Standard final weight'}\n",
    "\n",
    "# Mapping descriptions to the variable names"
   ]
  },
  {
   "cell_type": "code",
   "execution_count": 9,
   "metadata": {},
   "outputs": [],
   "source": [
    "#data.describe()\n",
    "# Displaying the summary statistics of the data"
   ]
  },
  {
   "cell_type": "code",
   "execution_count": 10,
   "metadata": {},
   "outputs": [],
   "source": [
    "#data.info()\n",
    "# Displaying the data types of the columns"
   ]
  },
  {
   "cell_type": "code",
   "execution_count": 11,
   "metadata": {},
   "outputs": [],
   "source": [
    "data_missing_values= data.isnull().sum()\n",
    "# Counting the missing values in each column\n",
    "data_percent_missing = round(data.isnull().sum() * 100 / len(data),2)\n",
    "# Calculating the percentage of missing values in each column\n",
    "missing_values_percent=pd.DataFrame(data_percent_missing, columns=['Missing Values %'])\n",
    "# Creating a dataframe to display the missing values percentage\n",
    "missing_values_percent=missing_values_percent.rename_axis('Variables')\n",
    "# Renaming the index"
   ]
  },
  {
   "cell_type": "code",
   "execution_count": 12,
   "metadata": {},
   "outputs": [],
   "source": [
    "#data.head()\n",
    "# Displaying the first 5 rows of the data"
   ]
  },
  {
   "cell_type": "code",
   "execution_count": 13,
   "metadata": {},
   "outputs": [],
   "source": [
    "def statistics_table(data_frame):\n",
    "    data_type_mapping={\n",
    "    'rec_num':'Nominal',\n",
    "    'survyear':'Ordinal',\n",
    "    'survmnth':'Ordinal',\n",
    "    'lfsstat':'Nominal',\n",
    "    'prov':'Nominal',\n",
    "    'cma':'Nominal',\n",
    "    'age_12':'Ordinal',\n",
    "    'age_6':'Ordinal',\n",
    "    'sex':'Nominal',\n",
    "    'marstat':'Nominal',\n",
    "    'educ':'Ordinal',\n",
    "    'mjh':'Nominal',\n",
    "    'everwork':'Nominal',\n",
    "    'ftptlast':'Nominal',\n",
    "    'cowmain':'Nominal',\n",
    "    'immig':'Nominal',\n",
    "    'naics_21':'Nominal',\n",
    "    'noc_10':'Nominal',\n",
    "    'noc_43':'Nominal',\n",
    "    'yabsent':'Nominal',\n",
    "    'wksaway':'Nominal',\n",
    "    'payaway':'Nominal',\n",
    "    'uhrsmain':'Continuous',\n",
    "    'ahrsmain':'Continuous',\n",
    "    'ftptmain':'Nominal',\n",
    "    'utothrs':'Continuous',\n",
    "    'atothrs':'Continuous',\n",
    "    'hrsaway':'Continuous',\n",
    "    'yaway':'Nominal',\n",
    "    'paidot':'Continuous',\n",
    "    'unpaidot':'Continuous',\n",
    "    'xtrahrs':'Continuous',\n",
    "    'whypt':'Nominal',\n",
    "    'tenure':'Discrete',\n",
    "    'prevten':'Discrete',\n",
    "    'hrlyearn':'Continuous',\n",
    "    'union':'Nominal',\n",
    "    'permtemp':'Nominal',\n",
    "    'estsize':'Ordinal',\n",
    "    'firmsize':'Ordinal',\n",
    "    'durunemp':'Discrete',\n",
    "    'flowunem':'Nominal',\n",
    "    'unemftpt':'Nominal',\n",
    "    'whylefto':'Nominal',\n",
    "    'whyleftn':'Nominal',\n",
    "    'durjless':'Discrete',\n",
    "    'availabl':'Nominal',\n",
    "    'lkpubag':'Nominal',\n",
    "    'lkemploy':'Nominal',\n",
    "    'lkrels':'Nominal',\n",
    "    'lkatads':'Nominal',\n",
    "    'lkansads':'Nominal',\n",
    "    'lkothern':'Nominal',\n",
    "    'prioract':'Nominal',\n",
    "    'ynolook':'Nominal',\n",
    "    'tlolook':'Nominal',\n",
    "    'schooln':'Nominal',\n",
    "    'efamtype':'Nominal',\n",
    "    'agyownk':'Ordinal',\n",
    "    'finalwt':'Continuous'}\n",
    "\n",
    "    data_object_mapping={\n",
    "    'rec_num':'Qualitative',\n",
    "    'survyear':'Qualitative',\n",
    "    'survmnth':'Qualitative',\n",
    "    'lfsstat':'Qualitative',\n",
    "    'prov':'Qualitative',\n",
    "    'cma':'Qualitative',\n",
    "    'age_12':'Qualitative',\n",
    "    'age_6':'Qualitative',\n",
    "    'sex':'Qualitative',\n",
    "    'marstat':'Qualitative',\n",
    "    'educ':'Qualitative',\n",
    "    'mjh':'Qualitative',\n",
    "    'everwork':'Qualitative',\n",
    "    'ftptlast':'Qualitative',\n",
    "    'cowmain':'Qualitative',\n",
    "    'immig':'Qualitative',\n",
    "    'naics_21':'Qualitative',\n",
    "    'noc_10':'Qualitative',\n",
    "    'noc_43':'Qualitative',\n",
    "    'yabsent':'Qualitative',\n",
    "    'wksaway':'Qualitative',\n",
    "    'payaway':'Qualitative',\n",
    "    'uhrsmain':'Quantitative',\n",
    "    'ahrsmain':'Quantitative',\n",
    "    'ftptmain':'Qualitative',\n",
    "    'utothrs':'Quantitative',\n",
    "    'atothrs':'Quantitative',\n",
    "    'hrsaway':'Quantitative',\n",
    "    'yaway':'Qualitative',\n",
    "    'paidot':'Quantitative',\n",
    "    'unpaidot':'Quantitative',\n",
    "    'xtrahrs':'Quantitative',\n",
    "    'whypt':'Qualitative',\n",
    "    'tenure':'Quantitative',\n",
    "    'prevten':'Quantitative',\n",
    "    'hrlyearn':'Quantitative',\n",
    "    'union':'Qualitative',\n",
    "    'permtemp':'Qualitative',\n",
    "    'estsize':'Qualitative',\n",
    "    'firmsize':'Qualitative',\n",
    "    'durunemp':'Qualitative',\n",
    "    'flowunem':'Qualitative',\n",
    "    'unemftpt':'Qualitative',\n",
    "    'whylefto':'Qualitative',\n",
    "    'whyleftn':'Qualitative',\n",
    "    'durjless':'Qualitative',\n",
    "    'availabl':'Qualitative',\n",
    "    'lkpubag':'Qualitative',\n",
    "    'lkemploy':'Qualitative',\n",
    "    'lkrels':'Qualitative',\n",
    "    'lkatads':'Qualitative',\n",
    "    'lkansads':'Qualitative',\n",
    "    'lkothern':'Qualitative',\n",
    "    'prioract':'Qualitative',\n",
    "    'ynolook':'Qualitative',\n",
    "    'tlolook':'Qualitative',\n",
    "    'schooln':'Qualitative',\n",
    "    'efamtype':'Qualitative',\n",
    "    'agyownk':'Qualitative',\n",
    "    'finalwt':'Quantitative'}\n",
    "    data_table=data_frame.columns.to_frame(index=False)\n",
    "    data_table=data_table.rename(columns={0:'Variable Name'})\n",
    "    columns=list(data_table.iloc[:,0] )\n",
    "    data_table_mean_lst=[]\n",
    "    data_table_median_lst=[]\n",
    "    data_table_min_lst=[]\n",
    "    data_table_max_lst=[]\n",
    "    data_table_std_lst=[]\n",
    "    data_table_object_lst=[]\n",
    "    data_table_dtype_lst=[]\n",
    "\n",
    "    for column in columns:\n",
    "        data_table_mean_lst.append(round(data_frame[column].mean(),2))\n",
    "        data_table_median_lst.append(round(data_frame[column].median(),2))\n",
    "        data_table_min_lst.append(round(data_frame[column].min(),2))\n",
    "        data_table_max_lst.append(round(data_frame[column].max(),2))\n",
    "        data_table_std_lst.append(round(data_frame[column].std(),2))\n",
    "        data_table_object_lst.append(data_object_mapping.get((column.lower())))\n",
    "        data_table_dtype_lst.append(data_type_mapping.get((column.lower())))\n",
    "    summary_statistics_table=pd.DataFrame(list(zip(columns,data_table_object_lst,data_table_dtype_lst,data_table_mean_lst,data_table_median_lst,data_table_min_lst,data_table_max_lst,data_table_std_lst)),\n",
    "                                      columns=['Variable','Data','Data Type','Mean','Median','Min','Max','Standard Deviation'])\n",
    "    return summary_statistics_table\n",
    "\n",
    "# Created a function to generate the summary statistics table"
   ]
  },
  {
   "cell_type": "code",
   "execution_count": 14,
   "metadata": {},
   "outputs": [],
   "source": [
    "summary_statistics_table=statistics_table(data)\n",
    "# Creating the summary statistics table"
   ]
  },
  {
   "cell_type": "code",
   "execution_count": 15,
   "metadata": {},
   "outputs": [
    {
     "name": "stderr",
     "output_type": "stream",
     "text": [
      "/var/folders/0f/v6wgxn554tx62wm1nqjqw5hw0000gn/T/ipykernel_14375/565589369.py:12: SettingWithCopyWarning: \n",
      "A value is trying to be set on a copy of a slice from a DataFrame.\n",
      "Try using .loc[row_indexer,col_indexer] = value instead\n",
      "\n",
      "See the caveats in the documentation: https://pandas.pydata.org/pandas-docs/stable/user_guide/indexing.html#returning-a-view-versus-a-copy\n",
      "  summary_statistics_table_1[\"Description\"]=summary_statistics_table_1[\"Variable\"].apply(lambda x: full_variable_name_mapping.get(x.lower()))\n"
     ]
    }
   ],
   "source": [
    "# Removing mean, and standard deviation from non continous and discrete variables\n",
    "summary_statistics_table[\"Mean\"] = summary_statistics_table.apply(lambda row: row[\"Mean\"] if row[\"Data Type\"].lower() in [\"continuous\", \"discrete\"] else None, axis=1)\n",
    "summary_statistics_table[\"Standard Deviation\"] = summary_statistics_table.apply(lambda row: row[\"Standard Deviation\"] if row[\"Data Type\"].lower() in [\"continuous\", \"discrete\"] else None, axis=1)\n",
    "\n",
    "# Removing the median from the nominal variables\n",
    "summary_statistics_table[\"Median\"] = summary_statistics_table.apply(lambda row: None if row[\"Data Type\"].lower() == \"nominal\" else row[\"Median\"] , axis=1)\n",
    "summary_statistics_table=summary_statistics_table.merge(missing_values_percent,left_on='Variable',right_index=True)\n",
    "summary_statistics_table.sort_values(by=['Missing Values %','Variable'],inplace=True)\n",
    "summary_statistics_table.reset_index(drop=True,inplace=True)\n",
    "\n",
    "summary_statistics_table_1=summary_statistics_table[['Variable','Data','Data Type']]\n",
    "summary_statistics_table_1[\"Description\"]=summary_statistics_table_1[\"Variable\"].apply(lambda x: full_variable_name_mapping.get(x.lower()))\n",
    "summary_statistics_table_1=summary_statistics_table_1[['Variable','Description','Data','Data Type']]\n",
    "#summary_statistics_table_1.to_excel('Summary Statistics Table_Figure_3.xlsx',index=False)  \n",
    "\n",
    "summary_statistics_table_2=summary_statistics_table.drop(columns=['Data','Data Type'],axis=1)\n",
    "#summary_statistics_table_2.to_excel('Summary Statistics Table_Figure_2.xlsx',index=False)  \n",
    "\n",
    "# Creating a function to generate the statistics table for excel"
   ]
  },
  {
   "cell_type": "markdown",
   "metadata": {},
   "source": [
    "### Feature Selection: Low Variance and Missing Values"
   ]
  },
  {
   "cell_type": "code",
   "execution_count": 16,
   "metadata": {},
   "outputs": [],
   "source": [
    "remove_attributes=list(summary_statistics_table[summary_statistics_table_2['Missing Values %']>56.00]['Variable'])\n",
    "# Creating a list of variables with more than 56% missing values\n",
    "\n",
    "# Dropping the below variables as they are not important\n",
    "remove_attributes.append('SURVMNTH')\n",
    "remove_attributes.append('SURVYEAR')\n",
    "remove_attributes.append('REC_NUM')\n",
    "remove_attributes.append('FINALWT')\n",
    "\n",
    "##################################\n",
    "\n",
    "remove_attributes.append('LFSSTAT')\n",
    "remove_attributes.append('MJH')\n",
    "remove_attributes.append('FTPTMAIN')\n",
    "# Deleting because we are only looking at full timer workers not parttime\n",
    "remove_attributes.append('PERMTEMP')\n",
    "# Already filtered for full time jobs\n",
    "remove_attributes.append('SCHOOLN')\n",
    "# Only looking at non students and not full time or part time students\n",
    "\n",
    "##################################\n",
    " \n",
    "remove_attributes.append('HRSAWAY')\n",
    "# Hours away from work, part-week absence only low variance has 79 perecent 0s\n",
    "remove_attributes.append('PAIDOT')\n",
    "# Paid over time has low variance 83% of zeros\n",
    "remove_attributes.append('UNPAIDOT')\n",
    "# Upaid overtime has 83% of zeros\n",
    "remove_attributes.append('XTRAHRS')\n",
    "# Contains over 70% of zeroes\n",
    "\n",
    "data2=data.drop(columns=remove_attributes)\n",
    "# dropping the variables with more than 56% missing values and creating a new dataframe\n"
   ]
  },
  {
   "cell_type": "code",
   "execution_count": 17,
   "metadata": {},
   "outputs": [],
   "source": [
    "data2['SEX']=data2['SEX'].map({1:0,2:1})\n",
    "# Male is 0 and Female is 1. \n",
    "data2['IMMIG']=data2['IMMIG'].map({1:1,2:1,3:0})\n",
    "# immigrant is 1 and non immigrant is 0data2['MARSTAT']=data2['MARSTAT'].map({1:1,2:0,3:0,4:0,5:0,6:0})\n",
    "data2['MARSTAT']=data2['MARSTAT'].map({1:1,2:0,3:0,4:0,5:0,6:0})\n",
    "# Married is 1 and not married is 0\n",
    "data2['CMA']=data2['CMA'].map({0:0,1:1,2:1,3:1,4:1,5:1,6:1,7:1,8:1,9:1})\n",
    "# 1 is for the 9 largest CMAs and 0 is for the rest.\n",
    "\n",
    "data2['EFAMTYPE']=data2['EFAMTYPE'].map({\n",
    "    1:'Person not in an economic family',\n",
    "    2:'Dual-earner couple, no children or none under 25',\n",
    "    3:'Dual-earner couple, youngest child 0 to 17',\n",
    "    4:'Dual-earner couple, youngest child 18 to 24',\n",
    "    5:'Single-earner couple, male employed, no children or none under 25',\n",
    "    6:'Single-earner couple, male employed, youngest child 0 to 17',\n",
    "    7:'Single-earner couple, male employed, youngest child 18 to 24',\n",
    "    8:'Single-earner couple, female employed, no children or none under 25',\n",
    "    9:'Single-earner couple, female employed, youngest child 0 to 17',\n",
    "    10:'Single-earner couple, female employed, youngest child 18 to 24',\n",
    "    11:'Non-earner couple, no children or none under 25',\n",
    "    12:'Non-earner couple, youngest child 0 to 17',\n",
    "    13:'Non-earner couple, youngest child 18 to 24',\n",
    "    14:'Lone-parent family, parent employed, youngest child 0 to 17',\n",
    "    15:'Lone-parent family, parent employed, youngest child 18 to 24',\n",
    "    16:'Lone-parent family, parent not employed, youngest child 0 to 17',\n",
    "    17:'Lone-parent family, parent not employed, youngest child 18 to 24',\n",
    "    18:'Other families'\n",
    "})\n",
    "# Mapping the economic family type\n",
    "\n",
    "data2['COWMAIN']=data2['COWMAIN'].map({1:'Public sector employees',2:'Private sector employees'})\n",
    "# Mapping the class of worker\n",
    "\n",
    "data2['PROV']=data2['PROV'].map({10:'NL',11:'PE',12:'NS',13:'NB',24:'QC',35:'ON',46:'MB',47:'SK',48:'AB',59:'BC'})\n",
    "# Mapping the provinces\n",
    "\n",
    "data2['AGE_12']=data2['AGE_12'].map({\n",
    "    1:'15-19'\n",
    "    ,2:'20-24'\n",
    "    ,3:'25-29'\n",
    "    ,4:'30-34'\n",
    "    ,5:'35-39'\n",
    "    ,6:'40-44'\n",
    "    ,7:'45-49'\n",
    "    ,8:'50-54'\n",
    "    ,9:'55-59'\n",
    "    ,10:'60-64'\n",
    "    ,11:'65-69'\n",
    "    ,12:'70+'})\n",
    "# Mapping the age groups\n",
    "\n",
    "data2['EDUC']=data2['EDUC'].map({\n",
    "    0:'0 to 8 years'\n",
    "    ,1:'Some high school'\n",
    "    ,2:'High school graduate'\n",
    "    ,3:'Some post-secondary'\n",
    "    ,4:'Post-secondary certificate or diploma'\n",
    "    ,5:'Bachelor\\'s degree'\n",
    "    ,6:'Above bachelor\\'s degree'})\n",
    "# Mapping the education levels\n",
    "\n",
    "data2['NAICS_21']=data2['NAICS_21'].map({\n",
    "1:'Agriculture'\n",
    ",2:'Forestry and logging and support activities for forestry'\n",
    ",3:'Fishing, hunting and trapping'\n",
    ",4:'Mining, quarrying, and oil and gas extraction'\n",
    ",5:'Utilities'\n",
    ",6:'Construction'\n",
    ",7:'Manufacturing - durable goods'\n",
    ",8:'Manufacturing - non-durable goods'\n",
    ",9:'Wholesale trade'\n",
    ",10:'Retail trade'\n",
    ",11:'Transportation and warehousing'\n",
    ",12:'Finance and insurance'\n",
    ",13:'Real estate and rental and leasing'\n",
    ",14:'Professional, scientific and technical services'\n",
    ",15:'Business, building and other support services'\n",
    ",16:'Educational services'\n",
    ",17:'Health care and social assistance'\n",
    ",18:'Information, culture and recreation'\n",
    ",19:'Accommodation and food services'\n",
    ",20:'Other services (except public administration)'\n",
    ",21:'Public administration' \n",
    "})\n",
    "# Mapping the industry\n",
    "\n",
    "data2['FIRMSIZE']=data2['FIRMSIZE'].map({\n",
    "     1:'Less than 20 employees'\n",
    "    ,2:'20-99 employees'\n",
    "    ,3:'100-500 employees'\n",
    "    ,4:'More than 500 employees'})\n",
    "# Mapping the firm size\n",
    "\n",
    "data2['UNION']=data2['UNION'].map({\n",
    "    1:'Union member',\n",
    "    2:'Not a member but covered by a union contract or collective agreement',\n",
    "    3:'Non-unionized'})\n",
    "# Mapping the union status\n",
    "\n",
    "data2['NOC_43']=data2['NOC_43'].map({\n",
    "    1:'Legislative and senior management occupations',\n",
    "    2:'Specialized middle management occupations',\n",
    "    3:'Middle management occupations in retail and wholesale trade and customer services',\n",
    "    4:'Middle management occupations in trades, transportation, production and utilities',\n",
    "    5:'Professional occupations in finance',\n",
    "    6:'Professional occupations in business',\n",
    "    7:'Administrative and financial supervisors and specialized administrative occupations',\n",
    "    8:'Administrative occupations and transportation logistics occupations',\n",
    "    9:'Administrative and financial support and supply chain logistics occupations',\n",
    "    10:'Professional occupations in natural sciences',\n",
    "    11:'Professional occupations in applied sciences (except engineering)',\n",
    "    12:'Professional occupations in engineering',\n",
    "    13:'Technical occupations related to natural and applied sciences',\n",
    "    14:'Health treating and consultation services professionals',\n",
    "    15:'Therapy and assessment professionals',\n",
    "    16:'Nursing and allied health professionals',\n",
    "    17:'Technical occupations in health',\n",
    "    18:'Assisting occupations in support of health services',\n",
    "    19:'Professional occupations in law',\n",
    "    20:'Professional occupations in education services',\n",
    "    21:'Professional occupations in social and community services',\n",
    "    22:'Professional occupations in government services',\n",
    "    23:'Occupations in front-line public protection services',\n",
    "    24:'Paraprofessional occupations in legal, social, community and education services',\n",
    "    25:'Assisting occupations in education and in legal and public protection',\n",
    "    26:'Care providers and public protection support occupations and student monitors, crossing guards and related occupations',\n",
    "    27:'Professional occupations in art and culture',\n",
    "    28:'Technical occupations in art, culture and sport',\n",
    "    29:'Occupations in art, culture and sport',\n",
    "    30:'Support occupations in art, culture and sport',\n",
    "    31:'Retail sales and service supervisors and specialized occupations in sales and services',\n",
    "    32:'Occupations in sales and services',\n",
    "    33:'Sales and service representatives and other customer and personal services occupations',\n",
    "    34:'Sales and service support occupations',\n",
    "    35:'Technical trades and transportation officers and controllers',\n",
    "    36:'General trades',\n",
    "    37:'Mail and message distribution, other transport equipment operators and related maintenance workers',\n",
    "    38:'Helpers and labourers and other transport drivers, operators and labourers',\n",
    "    39:'Supervisors and occupations in natural resources, agriculture and related production',\n",
    "    40:'Workers and labourers in natural resources, agriculture and related production',\n",
    "    41:'Supervisors, central control and process operators in processing, manufacturing and utilities and aircraft assemblers and inspectors',\n",
    "    42:'Machine operators, assemblers and inspectors in processing, manufacturing and printing',\n",
    "    43:'Labourers in processing, manufacturing and utilities'\n",
    "})\n",
    "# Mapping the occupation\n",
    "\n",
    "data2['NOC_10']=data2['NOC_10'].map({\n",
    "    1:'Management occupations',\n",
    "    2:'Business, finance and administration occupations, except management',\n",
    "    3:'Natural and applied sciences and related occupations, except management',\n",
    "    4:'Health occupations, except management',\n",
    "    5:'Occupations in education, law and social, community and government services, except management',\n",
    "    6:'Occupations in art, culture, recreation and sport, except management',\n",
    "    7:'Sales and service occupations, except management',\n",
    "    8:'Trades, transport and equipment operators and related occupations, except management',\n",
    "    9:'Natural resources, agriculture and related production occupations, except management',\n",
    "    10:'Occupations in manufacturing and utilities, except management'})\n",
    "# Mapping the occupation\n"
   ]
  },
  {
   "cell_type": "code",
   "execution_count": 18,
   "metadata": {},
   "outputs": [],
   "source": [
    "data3=data2[:]\n",
    "# Creating a copy of the data"
   ]
  },
  {
   "cell_type": "code",
   "execution_count": 19,
   "metadata": {},
   "outputs": [],
   "source": [
    "labels=data3['HRLYEARN']\n",
    "#Creating the label for splitting the data\n",
    "\n",
    "features=data3.drop(columns=['HRLYEARN'],axis=1)\n",
    "# Creating the features for splitting the data\n",
    "\n",
    "#print(labels.shape)\n",
    "#print(features.shape)"
   ]
  },
  {
   "cell_type": "markdown",
   "metadata": {},
   "source": [
    "### Splitting the Data into Training and Testing"
   ]
  },
  {
   "cell_type": "code",
   "execution_count": 20,
   "metadata": {},
   "outputs": [],
   "source": [
    "X_train, X_test, y_train, y_test = train_test_split(features, labels, test_size=0.3, train_size=.7, random_state=42)\n",
    "# Splitting the features and labels into training and testing datasets\n",
    "# The training dataset is 80% of the data and the testing dataset is 20% of the data\n",
    "# This is to ensure no data leekage occurs, and to ensure the model is not overfitting\n",
    "# X_train will be used as the training set and the validation set for machine learning later on"
   ]
  },
  {
   "cell_type": "markdown",
   "metadata": {},
   "source": [
    "### Feature Selection: Correlation Analysis"
   ]
  },
  {
   "cell_type": "code",
   "execution_count": 21,
   "metadata": {},
   "outputs": [],
   "source": [
    "# profile2 = ProfileReport(X_train, title=\"Profiling Report\")\n",
    "# profile2.to_file(\"EDA after removing non-correlated features.html\")\n",
    "# Creating a another profile report to examine the correlation just on the training data"
   ]
  },
  {
   "cell_type": "code",
   "execution_count": 22,
   "metadata": {},
   "outputs": [],
   "source": [
    "# Will be dropping the remaining measures becauase of high correlation with other variables\n",
    "# This is removed from the X_train variable\n",
    "\n",
    "remove_attributes2=[]\n",
    "# Creating an empty list to store the variables to be removed\n",
    "remove_attributes2.append('NOC_43')\n",
    "# Correlated with COWMAIN, NOCS_10, SEX\n",
    "remove_attributes2.append('NOC_10')\n",
    "# Correlated with SEX, NOC_43, NAICS_21\n",
    "remove_attributes2.append('ESTSIZE')\n",
    "# Dropping MJH because it only contains one value, so it is not useful for the model\n",
    "remove_attributes2.append('AHRSMAIN')\n",
    "# Correlated with UTOTHRS, UHRSMAIN, ATOTHRS\n",
    "remove_attributes2.append('UTOTHRS')\n",
    "# Correlated with  ATOTHRS, UHRSMAIN, AHRSMAIN\n",
    "remove_attributes2.append('ATOTHRS')\n",
    "# Correlated with UTOTHRS, UHRSMAIN, ATOTHRS\n",
    "remove_attributes2.append('COWMAIN')\n",
    "# Removing cowmain because it is correlated with NAICS_21, UNION and NOC_43\n",
    "remove_attributes2.append('EFAMTYPE')\n",
    "# Removing efamtype because it is correlated with MASRSTAT"
   ]
  },
  {
   "cell_type": "code",
   "execution_count": 23,
   "metadata": {},
   "outputs": [],
   "source": [
    "X_train=X_train.drop(columns=remove_attributes2)\n",
    "X_test=X_test.drop(columns=remove_attributes2)\n",
    "# Dropping the variables with high correlation in both sets"
   ]
  },
  {
   "cell_type": "code",
   "execution_count": 24,
   "metadata": {},
   "outputs": [],
   "source": [
    "#profile3 = ProfileReport(X_train, title=\"Profiling Report\")\n",
    "#profile3.to_file(\"EDA after removing the correlated features.html\")\n",
    "# Dropping the variables with a high correlatoion and making another profile report"
   ]
  },
  {
   "cell_type": "code",
   "execution_count": 25,
   "metadata": {},
   "outputs": [],
   "source": [
    "master_list_of_variables_removed=remove_attributes+remove_attributes2\n",
    "null_attributes_full_variable_name=[]\n",
    "for attribute in master_list_of_variables_removed:\n",
    "    null_attributes_full_variable_name.append(full_variable_name_mapping.get(attribute.lower()))\n",
    "# Compiling all the variables that were removed from the dataset\n",
    "\n",
    "null_attributes_table=pd.DataFrame({'Variable':master_list_of_variables_removed,'Description':null_attributes_full_variable_name})\n",
    "# Creating a null attributes table"
   ]
  },
  {
   "cell_type": "markdown",
   "metadata": {},
   "source": [
    "### Combining the X_train and Y_train into one Dataframe"
   ]
  },
  {
   "cell_type": "code",
   "execution_count": 26,
   "metadata": {},
   "outputs": [],
   "source": [
    "data3=X_train.join(y_train)\n",
    "# Joing back the labels to the training set to have a complete dataset and make it easier to work with."
   ]
  },
  {
   "cell_type": "code",
   "execution_count": null,
   "metadata": {},
   "outputs": [],
   "source": [
    "#Creating a dataframe with the all the unique values in data3 and the number of classes in the categorical columns\n",
    "unique_values_table=pd.DataFrame()\n",
    "for column in data3.columns:\n",
    "    unique_values_table[column]=[data3[column].nunique()]\n",
    "unique_values_table=unique_values_table.T\n",
    "unique_values_table=unique_values_table.rename(columns={0:'Unique Values'})\n",
    "unique_values_table=unique_values_table.reset_index()\n",
    "unique_values_table=unique_values_table.rename(columns={'index':'Variables'})\n",
    "unique_values_table=unique_values_table.sort_values(by='Unique Values',ascending=False)\n",
    "unique_values_table.reset_index(drop=True,inplace=True)\n",
    "#unique_values_table.to_excel('Unique Values Table_Figure_4.xlsx',index=False)"
   ]
  },
  {
   "cell_type": "markdown",
   "metadata": {},
   "source": [
    "### Checking for Normality and Outliers"
   ]
  },
  {
   "cell_type": "markdown",
   "metadata": {},
   "source": [
    "#### Creating a Histogram"
   ]
  },
  {
   "cell_type": "code",
   "execution_count": 27,
   "metadata": {},
   "outputs": [],
   "source": [
    "def create_histogram(feature_series):\n",
    "    # Create subplots\n",
    "    fig, ax = plt.subplots(ncols=3, nrows=1, figsize=(20, 7))\n",
    "\n",
    "    # Add titles and labels\n",
    "    titles = ['Hourly Earnings (in dollars)', 'Usual Hours Worked (per week)', 'Job Tenure (in months)']\n",
    "    x_labels = ['Dollars', 'Hours', 'Months']\n",
    "\n",
    "\n",
    "    # Plot each feature in a separate subplot\n",
    "    for i, axi in enumerate(ax.flat):\n",
    "        try:\n",
    "            axi.hist(feature_series[i], bins=50, color='skyblue', edgecolor='black')\n",
    "            axi.set_title(titles[i], fontsize=14)\n",
    "            axi.set_xlabel(x_labels[i], fontsize=12)\n",
    "            axi.set_ylabel('Frequency', fontsize=12)\n",
    "        except IndexError:\n",
    "            break\n",
    "\n",
    "    plt.tight_layout()\n",
    "    plt.show()\n"
   ]
  },
  {
   "cell_type": "code",
   "execution_count": 28,
   "metadata": {},
   "outputs": [
    {
     "data": {
      "image/png": "[encoded data removed]",
      "text/plain": [
       "<Figure size 2000x700 with 3 Axes>"
      ]
     },
     "metadata": {},
     "output_type": "display_data"
    }
   ],
   "source": [
    "create_histogram([data3['HRLYEARN'], data3['UHRSMAIN'], data3['TENURE']])"
   ]
  },
  {
   "cell_type": "markdown",
   "metadata": {},
   "source": [
    "#### Shaprio-Wilk Test"
   ]
  },
  {
   "cell_type": "code",
   "execution_count": null,
   "metadata": {},
   "outputs": [],
   "source": [
    "# Perform Shapiro-Wilk test to test for normality for UHRSMAIN and TENURE\n",
    "for column in ['UHRSMAIN','TENURE']:\n",
    "    stat, p = stats.shapiro(data3[column])\n",
    "    print(f'Statistic: {stat}, p-value: {p}')\n",
    "\n",
    "    alpha = 0.05\n",
    "    if p > alpha:\n",
    "        print(f'{column} looks like a normal distribution (fail to reject H0)')\n",
    "    else:\n",
    "        print(f'{column} does not look like a normal distribution (reject H0)')"
   ]
  },
  {
   "cell_type": "code",
   "execution_count": null,
   "metadata": {},
   "outputs": [],
   "source": [
    "# Perform Shapiro-Wilk test to test for HRLYYEARN training data\n",
    "stat, p = stats.shapiro(data3['HRLYEARN'])\n",
    "print(f'Statistic: {stat}, p-value: {p}')"
   ]
  },
  {
   "cell_type": "markdown",
   "metadata": {},
   "source": [
    "##### Creating a Boxplot"
   ]
  },
  {
   "cell_type": "code",
   "execution_count": 29,
   "metadata": {},
   "outputs": [],
   "source": [
    "# Feature series to be plotted\n",
    "def create_box_plot(feature_series,feature_labels):\n",
    "    # Customize flier properties for outliers\n",
    "    flierprops = dict(marker='o', markerfacecolor='r', markersize=12,\n",
    "                    linestyle='none', markeredgecolor='g')\n",
    "    # Create subplots\n",
    "    fig, ax = plt.subplots(ncols=3, nrows=1, figsize=(20, 7))\n",
    "\n",
    "    # Plot each feature in a separate subplot\n",
    "    for i, axi in enumerate(ax.flat):\n",
    "        try:\n",
    "            axi.boxplot(feature_series[i], flierprops=flierprops, patch_artist=True,\n",
    "                        boxprops=dict(facecolor='skyblue', color='black'),\n",
    "                        capprops=dict(color='black'),\n",
    "                        whiskerprops=dict(color='black'),\n",
    "                        medianprops=dict(color='red'))\n",
    "            axi.set_title(feature_labels[i], fontsize=14)\n",
    "            axi.tick_params(axis='y', labelsize=12)\n",
    "            axi.tick_params(axis='x', labelsize=0)\n",
    "        except IndexError:\n",
    "            break\n",
    "    plt.tight_layout()\n",
    "    plt.show()"
   ]
  },
  {
   "cell_type": "code",
   "execution_count": null,
   "metadata": {},
   "outputs": [],
   "source": [
    "# Displaying the box plots\n",
    "create_box_plot([data3['HRLYEARN'], data3['UHRSMAIN'], data3['TENURE']],['Hourly Earnings (in dollars)', 'Usual Hours Worked (per week)', 'Job Tenure (in months)'])"
   ]
  },
  {
   "cell_type": "markdown",
   "metadata": {},
   "source": [
    "#### Outlier Detection using IQR"
   ]
  },
  {
   "cell_type": "code",
   "execution_count": 31,
   "metadata": {},
   "outputs": [],
   "source": [
    "data3['HRLYEARN']=np.log(data3['HRLYEARN'])"
   ]
  },
  {
   "cell_type": "code",
   "execution_count": 32,
   "metadata": {},
   "outputs": [
    {
     "name": "stdout",
     "output_type": "stream",
     "text": [
      "Five Number Summary Q1,Q2,Q3,min_value,max_value, and IQR: 3.1780538303479458 3.487069220736119 3.8318969609488613 1.7526720805200082 5.326321562957634 0.6538431306009156\n"
     ]
    }
   ],
   "source": [
    "# 5 number summary for HRLYEARN.\n",
    "Q1_HRLYEARN = np.percentile(data3['HRLYEARN'], 25)\n",
    "Q2_HRLYEARN  = np.percentile(data3['HRLYEARN'], 50)\n",
    "Q3_HRLYEARN  = np.percentile(data3['HRLYEARN'], 75)\n",
    "min_value_HRLYEARN  = np.min(data3['HRLYEARN'])\n",
    "max_value_HRLYEARN  = np.max(data3['HRLYEARN'])\n",
    "IQR_HRLYEARN = Q3_HRLYEARN  - Q1_HRLYEARN \n",
    "print(\"Five Number Summary Q1,Q2,Q3,min_value,max_value, and IQR:\",Q1_HRLYEARN ,Q2_HRLYEARN ,Q3_HRLYEARN , min_value_HRLYEARN ,max_value_HRLYEARN , IQR_HRLYEARN)"
   ]
  },
  {
   "cell_type": "code",
   "execution_count": 33,
   "metadata": {},
   "outputs": [],
   "source": [
    "Q1_UHRSMAIN = np.percentile(data3['UHRSMAIN'], 25)\n",
    "Q2_UHRSMAIN = np.percentile(data3['UHRSMAIN'], 50)\n",
    "Q3_UHRSMAIN = np.percentile(data3['UHRSMAIN'], 75)\n",
    "min_value_UHRSMAIN = np.min(data3['UHRSMAIN'])\n",
    "max_value_UHRSMAIN = np.max(data3['UHRSMAIN'])\n",
    "IQR_UHRSMAIN = Q3_UHRSMAIN - Q1_UHRSMAIN\n",
    "#print(\"Five Number Summary Q1,Q2,Q3,min_value,max_value, and IQR:\",Q1_UHRSMAIN,Q2_UHRSMAIN,Q3_UHRSMAIN, min_value_UHRSMAIN,max_value_UHRSMAIN, IQR_UHRSMAIN)\n"
   ]
  },
  {
   "cell_type": "code",
   "execution_count": 34,
   "metadata": {},
   "outputs": [],
   "source": [
    "Q1_TENURE = np.percentile(data3['TENURE'], 25)\n",
    "Q2_TENURE = np.percentile(data3['TENURE'], 50)\n",
    "Q3_TENURE = np.percentile(data3['TENURE'], 75)\n",
    "min_value_TENURE = np.min(data3['TENURE'])\n",
    "max_value_TENURE = np.max(data3['TENURE'])\n",
    "IQR_TENURE = Q3_TENURE - Q1_TENURE\n",
    "#print(\"Five Number Summary Q1,Q2,Q3,min_value,max_value, and IQR:\",Q1_TENURE,Q2_TENURE,Q3_TENURE, min_value_TENURE,max_value_TENURE, IQR_TENURE)\n"
   ]
  },
  {
   "cell_type": "markdown",
   "metadata": {},
   "source": [
    "##### Removing the Outliers"
   ]
  },
  {
   "cell_type": "code",
   "execution_count": null,
   "metadata": {},
   "outputs": [],
   "source": [
    "# Checking for outliers in the response variable using IQR\n",
    "outliers_HRLYEARN = data3[(data3['HRLYEARN'] < (Q1_HRLYEARN - 1.5 * IQR_HRLYEARN)) | (data3['HRLYEARN'] > (Q3_HRLYEARN + 1.5 * IQR_HRLYEARN))]\n",
    "outliers_UHRSMAIN = data3[(data3['UHRSMAIN'] < (Q1_UHRSMAIN - 1.5 * IQR_UHRSMAIN)) | (data3['UHRSMAIN'] > (Q3_UHRSMAIN + 1.5 * IQR_UHRSMAIN))]\n",
    "outliers_TENURE = data3[(data3['TENURE'] < (Q1_TENURE - 1.5 * IQR_TENURE)) | (data3['TENURE'] > (Q3_TENURE + 1.5 * IQR_TENURE))]\n",
    "print(\"The number of outliers for HRLYEARN, UHRSMAIN, and TENURE are:\",len(outliers_HRLYEARN),len(outliers_UHRSMAIN),len(outliers_TENURE))\n",
    "#print(\"The shape of the working dataset is:\",data3.shape)\n",
    "#The outliers account for approximately 18% of the training data. The outliers will be removed from the dataset."
   ]
  },
  {
   "cell_type": "code",
   "execution_count": 35,
   "metadata": {},
   "outputs": [],
   "source": [
    "data4=data3[:]\n",
    "# Crating a newdataframe to remove the outliers from data3"
   ]
  },
  {
   "cell_type": "code",
   "execution_count": 36,
   "metadata": {},
   "outputs": [],
   "source": [
    "#removing the outliers from the dataset\n",
    "data4 = data4[(data4['HRLYEARN'] >= (Q1_HRLYEARN - 1 * IQR_HRLYEARN)) & (data4['HRLYEARN'] <= (Q3_HRLYEARN + 1.5 * IQR_HRLYEARN))]\n",
    "data4 = data4[(data4['UHRSMAIN'] >= (Q1_UHRSMAIN - 1 * IQR_UHRSMAIN)) & (data4['UHRSMAIN'] <= (Q3_UHRSMAIN + 1.5 * IQR_UHRSMAIN))]\n",
    "data4 = data4[(data4['TENURE'] >= (Q1_TENURE - 1 * IQR_TENURE)) & (data4['TENURE'] <= (Q3_TENURE + 1.5 * IQR_TENURE))]"
   ]
  },
  {
   "cell_type": "code",
   "execution_count": 77,
   "metadata": {},
   "outputs": [
    {
     "name": "stdout",
     "output_type": "stream",
     "text": [
      "   Variable          Data   Data Type    Mean  Median    Min     Max  \\\n",
      "0  HRLYEARN  Quantitative  Continuous   37.21   32.79   5.77  208.33   \n",
      "1  UHRSMAIN  Quantitative  Continuous   39.38   40.00  30.00   99.00   \n",
      "2    TENURE  Quantitative    Discrete  100.13   73.00   1.00  240.00   \n",
      "\n",
      "   Standard Deviation  \n",
      "0               18.55  \n",
      "1                5.79  \n",
      "2               82.95  \n",
      "   Variable          Data   Data Type    Mean  Median    Min     Max  \\\n",
      "0  HRLYEARN  Quantitative  Continuous    3.53    3.51   2.53    4.81   \n",
      "1  UHRSMAIN  Quantitative  Continuous   38.77   40.00  35.00   43.50   \n",
      "2    TENURE  Quantitative    Discrete  100.83   73.00   1.00  240.00   \n",
      "\n",
      "   Standard Deviation  \n",
      "0                0.43  \n",
      "1                1.87  \n",
      "2               83.00  \n"
     ]
    }
   ],
   "source": [
    "summary_statistics_table_continuous_variables_before_outliers=statistics_table(data2[['HRLYEARN','UHRSMAIN','TENURE']])\n",
    "summary_statistics_table_continuous_variables_after_outliers=statistics_table(data4[['HRLYEARN','UHRSMAIN','TENURE']])\n",
    "# Creating the summary statistics table for the continuous variables before and after removing the outliers\n",
    "print(summary_statistics_table_continuous_variables_before_outliers)\n",
    "print(summary_statistics_table_continuous_variables_after_outliers)\n",
    "\n",
    "#summary_statistics_table_continuous_variables_before_outliers.to_excel('Continuous Variables Before Removing outliers.xlsx',index=False)  \n",
    "#summary_statistics_table_continuous_variables_after_outliers.to_excel('Continuous Variables After Removing outliers.xlsx',index=False)  \n",
    "# Exporting the summary statistics table for the continuous variables before and after removing the outliers"
   ]
  },
  {
   "cell_type": "code",
   "execution_count": null,
   "metadata": {},
   "outputs": [],
   "source": [
    "#displaying the boxplots after removing the outliers\n",
    "create_box_plot([data4['HRLYEARN'], data4['UHRSMAIN'], data4['TENURE']],['Hourly Earnings (in dollars)', 'Usual Hours Worked (per week)', 'Job Tenure (in months)'])"
   ]
  },
  {
   "cell_type": "code",
   "execution_count": 75,
   "metadata": {},
   "outputs": [
    {
     "data": {
      "image/png": "[encoded data removed]",
      "text/plain": [
       "<Figure size 2000x700 with 3 Axes>"
      ]
     },
     "metadata": {},
     "output_type": "display_data"
    }
   ],
   "source": [
    "create_histogram([data4['HRLYEARN'], data4['UHRSMAIN'], data4['TENURE']])"
   ]
  },
  {
   "cell_type": "markdown",
   "metadata": {},
   "source": [
    "### Feature Selection: Random Forest Feature Importance"
   ]
  },
  {
   "cell_type": "code",
   "execution_count": 39,
   "metadata": {},
   "outputs": [],
   "source": [
    "data5=data4[:]\n",
    "# Creating new data frame after removing the outliers"
   ]
  },
  {
   "cell_type": "code",
   "execution_count": 40,
   "metadata": {},
   "outputs": [],
   "source": [
    "data5.rename(columns={'AGE_12': 'AGE'}, inplace=True)\n",
    "# Renaming the age column\n",
    "data5.rename(columns={'NAICS_21':'NAICS'},inplace=True)"
   ]
  },
  {
   "cell_type": "markdown",
   "metadata": {},
   "source": [
    "##### Creating the Dummy Variables"
   ]
  },
  {
   "cell_type": "code",
   "execution_count": 41,
   "metadata": {},
   "outputs": [
    {
     "name": "stdout",
     "output_type": "stream",
     "text": [
      "Shape of transformed data: (91424, 55)\n",
      "Number of feature names: 55\n"
     ]
    }
   ],
   "source": [
    "categorical_features = ['PROV', 'CMA', 'AGE', 'SEX', 'MARSTAT', 'EDUC', 'IMMIG', 'NAICS', 'UNION', 'FIRMSIZE']\n",
    "continuous_features = ['UHRSMAIN', 'TENURE']\n",
    "\n",
    "# Define the response variable\n",
    "y = data5['HRLYEARN']\n",
    "\n",
    "# Define the feature variables\n",
    "X = data5.drop(columns=['HRLYEARN'])\n",
    "\n",
    "# Define the ColumnTransformer\n",
    "preprocessor = ColumnTransformer(\n",
    "    transformers=[\n",
    "        ('num', MinMaxScaler(), continuous_features),\n",
    "        ('cat', OneHotEncoder(drop='first'), categorical_features)\n",
    "    ])\n",
    "\n",
    "# Fit and transform the data\n",
    "X_transformed = preprocessor.fit_transform(X)\n",
    "\n",
    "# Check the shape of the transformed data\n",
    "print(\"Shape of transformed data:\", X_transformed.shape)\n",
    "\n",
    "# Get feature names after transformation\n",
    "categorical_transformer = preprocessor.named_transformers_['cat']\n",
    "onehot_feature_names = categorical_transformer.get_feature_names_out(categorical_features)\n",
    "feature_names = np.append(continuous_features, onehot_feature_names)\n",
    "\n",
    "# Check the length of feature names\n",
    "print(\"Number of feature names:\", len(feature_names))\n",
    "\n",
    "# Convert sparse matrix to dense matrix\n",
    "X_transformed_dense = X_transformed.toarray()\n",
    "\n",
    "# Create a DataFrame with transformed features and set the original index\n",
    "#try:\n",
    "X_transformed_df = pd.DataFrame(X_transformed_dense, columns=feature_names, index=data5.index)\n",
    "    #print(\"DataFrame created successfully with transformed features.\")\n",
    "    #print(X_transformed_df.head())\n",
    "#except ValueError as e:\n",
    "    #print(\"Error creating DataFrame:\", e)\n",
    "    #print(\"Number of columns in transformed data:\", X_transformed_dense.shape[1])\n",
    "    #print(\"Number of feature names:\", len(feature_names))"
   ]
  },
  {
   "cell_type": "markdown",
   "metadata": {},
   "source": [
    "##### Setting up the Pipline for RandomizedSearchCV to execute"
   ]
  },
  {
   "cell_type": "code",
   "execution_count": 42,
   "metadata": {},
   "outputs": [],
   "source": [
    "# Define the Pipeline\n",
    "pipeline = Pipeline(steps=[\n",
    "    ('preprocessor', preprocessor),\n",
    "    ('model', RandomForestRegressor(random_state=42))\n",
    "])\n",
    "\n",
    "# Define the parameter grid for RandomizedSearchCV\n",
    "param_grid = {\n",
    "    'model__n_estimators': [10],\n",
    "    'model__max_features': [1.0],\n",
    "    'model__max_depth': [None],\n",
    "    'model__min_samples_split': [2],\n",
    "    'model__min_samples_leaf': [1],\n",
    "    'model__bootstrap': [True]\n",
    "}\n",
    "# Define the KFold cross-validator\n",
    "kf = KFold(n_splits=10, shuffle=True, random_state=42)\n",
    "\n",
    "# Define RandomizedSearchCV\n",
    "random_search = RandomizedSearchCV(pipeline, param_distributions=param_grid,n_iter=1,cv=kf,random_state=42, n_jobs=-1)\n",
    "\n",
    "# Can only do 1 iteration because of computaional constraints. "
   ]
  },
  {
   "cell_type": "markdown",
   "metadata": {},
   "source": [
    "##### Fit the Random Forest Model"
   ]
  },
  {
   "cell_type": "code",
   "execution_count": 43,
   "metadata": {},
   "outputs": [],
   "source": [
    "# Fit the RandomizedSearchCV\n",
    "random_search.fit(X, y)\n",
    "\n",
    "# Get the best model from RandomizedSearchCV\n",
    "best_model = random_search.best_estimator_\n",
    "\n",
    "# Print the best hyperparameters\n",
    "#print(f\"Best hyperparameters: {random_search.best_params_}\")"
   ]
  },
  {
   "cell_type": "markdown",
   "metadata": {},
   "source": [
    "##### Creating the Feature Importance Table"
   ]
  },
  {
   "cell_type": "code",
   "execution_count": 52,
   "metadata": {},
   "outputs": [
    {
     "name": "stdout",
     "output_type": "stream",
     "text": [
      "                                              Feature  Importance  \\\n",
      "1                                              TENURE    0.206685   \n",
      "24                             EDUC_Bachelor's degree    0.067599   \n",
      "23                       EDUC_Above bachelor's degree    0.063960   \n",
      "0                                            UHRSMAIN    0.042622   \n",
      "21                                              SEX_1    0.035247   \n",
      "26         EDUC_Post-secondary certificate or diploma    0.027847   \n",
      "11                                              CMA_1    0.023832   \n",
      "22                                          MARSTAT_1    0.023388   \n",
      "54                   FIRMSIZE_More than 500 employees    0.022788   \n",
      "29                                            IMMIG_1    0.022071   \n",
      "46                                 NAICS_Retail trade    0.022032   \n",
      "7                                             PROV_ON    0.020994   \n",
      "51                                 UNION_Union member    0.020650   \n",
      "43  NAICS_Professional, scientific and technical s...    0.019524   \n",
      "53                    FIRMSIZE_Less than 20 employees    0.017091   \n",
      "44                        NAICS_Public administration    0.016814   \n",
      "41  NAICS_Mining, quarrying, and oil and gas extra...    0.015904   \n",
      "2                                             PROV_BC    0.015776   \n",
      "17                                          AGE_45-49    0.015572   \n",
      "18                                          AGE_50-54    0.015033   \n",
      "9                                             PROV_QC    0.014307   \n",
      "19                                          AGE_55-59    0.013757   \n",
      "16                                          AGE_40-44    0.013612   \n",
      "15                                          AGE_35-39    0.012594   \n",
      "34                        NAICS_Finance and insurance    0.012378   \n",
      "3                                             PROV_MB    0.012032   \n",
      "14                                          AGE_30-34    0.011921   \n",
      "52                           FIRMSIZE_20-99 employees    0.011917   \n",
      "13                                          AGE_25-29    0.011717   \n",
      "20                                          AGE_60-64    0.011652   \n",
      "32                                 NAICS_Construction    0.010127   \n",
      "10                                            PROV_SK    0.009963   \n",
      "12                                          AGE_20-24    0.009961   \n",
      "40            NAICS_Manufacturing - non-durable goods    0.009677   \n",
      "37            NAICS_Health care and social assistance    0.009566   \n",
      "6                                             PROV_NS    0.009431   \n",
      "4                                             PROV_NB    0.009354   \n",
      "49                              NAICS_Wholesale trade    0.008849   \n",
      "31  NAICS_Business, building and other support ser...    0.007910   \n",
      "39                NAICS_Manufacturing - durable goods    0.007793   \n",
      "47               NAICS_Transportation and warehousing    0.007622   \n",
      "5                                             PROV_NL    0.007549   \n",
      "38          NAICS_Information, culture and recreation    0.007441   \n",
      "33                         NAICS_Educational services    0.007236   \n",
      "48                                    NAICS_Utilities    0.006730   \n",
      "42  NAICS_Other services (except public administra...    0.005607   \n",
      "8                                             PROV_PE    0.004749   \n",
      "45           NAICS_Real estate and rental and leasing    0.004554   \n",
      "50  UNION_Not a member but covered by a union cont...    0.003567   \n",
      "28                           EDUC_Some post-secondary    0.003318   \n",
      "25                          EDUC_High school graduate    0.002739   \n",
      "27                              EDUC_Some high school    0.002212   \n",
      "30                                  NAICS_Agriculture    0.001686   \n",
      "36  NAICS_Forestry and logging and support activit...    0.000872   \n",
      "35                NAICS_Fishing, hunting and trapping    0.000169   \n",
      "\n",
      "    Cumulative Importance  \n",
      "1                0.206685  \n",
      "24               0.274284  \n",
      "23               0.338244  \n",
      "0                0.380866  \n",
      "21               0.416113  \n",
      "26               0.443960  \n",
      "11               0.467792  \n",
      "22               0.491180  \n",
      "54               0.513968  \n",
      "29               0.536039  \n",
      "46               0.558071  \n",
      "7                0.579065  \n",
      "51               0.599715  \n",
      "43               0.619239  \n",
      "53               0.636330  \n",
      "44               0.653144  \n",
      "41               0.669048  \n",
      "2                0.684824  \n",
      "17               0.700395  \n",
      "18               0.715429  \n",
      "9                0.729736  \n",
      "19               0.743493  \n",
      "16               0.757105  \n",
      "15               0.769699  \n",
      "34               0.782077  \n",
      "3                0.794109  \n",
      "14               0.806031  \n",
      "52               0.817948  \n",
      "13               0.829665  \n",
      "20               0.841316  \n",
      "32               0.851444  \n",
      "10               0.861407  \n",
      "12               0.871367  \n",
      "40               0.881044  \n",
      "37               0.890610  \n",
      "6                0.900041  \n",
      "4                0.909395  \n",
      "49               0.918244  \n",
      "31               0.926154  \n",
      "39               0.933947  \n",
      "47               0.941570  \n",
      "5                0.949119  \n",
      "38               0.956560  \n",
      "33               0.963796  \n",
      "48               0.970526  \n",
      "42               0.976133  \n",
      "8                0.980882  \n",
      "45               0.985437  \n",
      "50               0.989004  \n",
      "28               0.992322  \n",
      "25               0.995061  \n",
      "27               0.997273  \n",
      "30               0.998959  \n",
      "36               0.999831  \n",
      "35               1.000000  \n"
     ]
    }
   ],
   "source": [
    "# Retreived the best model after fitting the RandomizedSearchCV\n",
    "model = best_model.named_steps['model']\n",
    "\n",
    "# Retreiving the fature names\n",
    "categorical_transformer = best_model.named_steps['preprocessor'].named_transformers_['cat']\n",
    "onehot_feature_names = categorical_transformer.get_feature_names_out(categorical_features)\n",
    "feature_names = np.append(continuous_features, onehot_feature_names)\n",
    "\n",
    "# Extracted feature importances\n",
    "feature_importances = model.feature_importances_\n",
    "\n",
    "# Created a DataFrame for better visualization\n",
    "features_df = pd.DataFrame({\n",
    "    'Feature': feature_names,\n",
    "    'Importance': feature_importances\n",
    "})\n",
    "\n",
    "# Sorted the DataFrame by importance\n",
    "features_df = features_df.sort_values(by='Importance', ascending=False)\n",
    "# Kept 95% of the cumulative importance\n",
    "\n",
    "# Calculate cumulative importance\n",
    "features_df['Cumulative Importance'] = features_df['Importance'].cumsum()\n",
    "\n",
    "#features_df.to_excel('Feature Importance Table.xlsx',index=False)\n",
    "# Exporting the feature importance table\n",
    "\n",
    "\n",
    "# Display the DataFrame with importance\n",
    "print(features_df)\n",
    "\n",
    "\n"
   ]
  },
  {
   "cell_type": "markdown",
   "metadata": {},
   "source": [
    "##### Plotting the Feature Importance"
   ]
  },
  {
   "cell_type": "code",
   "execution_count": null,
   "metadata": {},
   "outputs": [],
   "source": [
    "'''\n",
    "plt.figure(figsize=(12, 8))\n",
    "sns.barplot(x='Importance', y='Feature', data=features_df, palette='viridis')\n",
    "plt.title('Feature Importances from Random Forest')\n",
    "plt.xlabel('Importance')\n",
    "plt.ylabel('Feature')\n",
    "plt.show()\n",
    "'''"
   ]
  },
  {
   "cell_type": "code",
   "execution_count": 45,
   "metadata": {},
   "outputs": [],
   "source": [
    "# Set the cumulative importance threshold\n",
    "def threshold_feature_selection(i,X_transformed_df):\n",
    "    threshold = i\n",
    "    # Identify the features to keep\n",
    "    features_to_keep = features_df[features_df['Cumulative Importance'] <= threshold]['Feature']\n",
    "    #print(f\"Number of features to keep: {len(features_to_keep)}\")\n",
    "    #print(f\"Features to keep:\\n{features_to_keep}\")\n",
    "    # Subset the transformed dataset to include only the top 10 features\n",
    "    X_reduced = X_transformed_df[features_to_keep]\n",
    "    #print(\"Reduced dataset shape:\", X_reduced.shape)\n",
    "    return X_reduced"
   ]
  },
  {
   "cell_type": "markdown",
   "metadata": {},
   "source": [
    "### Linearity Assumptions Tested"
   ]
  },
  {
   "cell_type": "code",
   "execution_count": null,
   "metadata": {},
   "outputs": [],
   "source": [
    "#preparing the y value for the linearity tests\n",
    "X = threshold_feature_selection(0.95,X_transformed_df)\n",
    "y = data5['HRLYEARN']"
   ]
  },
  {
   "cell_type": "code",
   "execution_count": null,
   "metadata": {},
   "outputs": [],
   "source": [
    "''''\n",
    "# Define the independent variables (X)\n",
    "\n",
    "\n",
    "# Add a constant to the model\n",
    "X = sm.add_constant(X)\n",
    "\n",
    "# Fit the model\n",
    "model = sm.OLS(y, X).fit()\n",
    "\n",
    "model_summary = model.summary()\n",
    "#print(model_summary)\n",
    "\n",
    "# Get the residuals\n",
    "residuals = model.resid\n",
    "\n",
    "# 1. Check for independence (Durbin-Watson test)\n",
    "dw_test = sm.stats.stattools.durbin_watson(residuals)\n",
    "#print('Durbin-Watson test statistic:', dw_test)\n",
    "\n",
    "# 2. Check for normality (Q-Q plot and Shapiro-Wilk test)\n",
    "plt.figure(figsize=(8, 6))\n",
    "plt.hist(residuals, color='skyblue', edgecolor='black')\n",
    "plt.title('Histogram of Residuals')\n",
    "plt.xlabel('Residuals')\n",
    "plt.ylabel('Frequency')\n",
    "plt.show()\n",
    "\n",
    "shapiro_test = stats.shapiro(residuals)\n",
    "#print('Shapiro-Wilk test statistic:', shapiro_test)\n",
    "\n",
    "# 3. Check for mean of residuals equal to zero\n",
    "mean_residuals = residuals.mean()\n",
    "#print('Mean of residuals:', mean_residuals)\n",
    "\n",
    "# 4. Check for homoscedasticity (constant variance)\n",
    "plt.scatter(model.fittedvalues, residuals)\n",
    "plt.xlabel('Fitted values')\n",
    "plt.ylabel('Residuals')\n",
    "plt.title('Fitted values vs Residuals')\n",
    "plt.show()\n",
    "'''"
   ]
  },
  {
   "cell_type": "code",
   "execution_count": null,
   "metadata": {},
   "outputs": [],
   "source": [
    "'''\n",
    "# Apply log transformation to the dependent variable to fix the normality issue and check the residuals again\n",
    "# This fixed the normaility issue but not the homoscedasticity issue\n",
    " \n",
    "#transformed dependent variable (y)\n",
    "log_y=np.log(y)\n",
    "\n",
    "# Add a constant to the model\n",
    "X = sm.add_constant(X)\n",
    "\n",
    "# Fit the model\n",
    "model = sm.OLS(log_y, X).fit()\n",
    "\n",
    "# Get the residuals\n",
    "residuals = model.resid\n",
    "\n",
    "# 1. Check for independence (Durbin-Watson test)\n",
    "dw_test = sm.stats.stattools.durbin_watson(residuals)\n",
    "#print('Durbin-Watson test statistic:', dw_test)\n",
    "\n",
    "# 2. Check for normality (Q-Q plot and Shapiro-Wilk test)\n",
    "plt.figure(figsize=(8, 6))\n",
    "plt.hist(residuals, color='skyblue', edgecolor='black')\n",
    "plt.title('Histogram of Residuals')\n",
    "plt.xlabel('Residuals')\n",
    "plt.ylabel('Frequency')\n",
    "plt.show()\n",
    "\n",
    "shapiro_test = stats.shapiro(residuals)\n",
    "#print('Shapiro-Wilk test statistic:', shapiro_test)\n",
    "\n",
    "# 3. Check for mean of residuals equal to zero\n",
    "mean_residuals = residuals.mean()\n",
    "#print('Mean of residuals:', mean_residuals)\n",
    "\n",
    "# 4. Check for homoscedasticity (constant variance)\n",
    "plt.scatter(model.fittedvalues, residuals)\n",
    "plt.xlabel('Fitted values')\n",
    "plt.ylabel('Residuals')\n",
    "plt.title('Fitted values vs Residuals')\n",
    "plt.show()\n",
    "'''"
   ]
  },
  {
   "cell_type": "code",
   "execution_count": null,
   "metadata": {},
   "outputs": [],
   "source": [
    "'''\n",
    "# Useing weighted least squares (WLS) to account for heteroscedasticity, but does not workw well.\n",
    "model = sm.OLS(y, X).fit()\n",
    "weights = 1 / model.fittedvalues\n",
    "model_wls = sm.WLS(y, X, weights=weights).fit()\n",
    "\n",
    "# Check residuals for homoscedasticity\n",
    "residuals_wls = model_wls.resid\n",
    "plt.scatter(model_wls.fittedvalues, residuals_wls)\n",
    "plt.xlabel('Fitted values')\n",
    "plt.ylabel('Residuals')\n",
    "plt.title('Fitted values vs Residuals (WLS)')\n",
    "plt.show()\n",
    "'''"
   ]
  },
  {
   "cell_type": "markdown",
   "metadata": {},
   "source": [
    "#### Creating the Dataset For Apriori Algorithm"
   ]
  },
  {
   "cell_type": "code",
   "execution_count": null,
   "metadata": {},
   "outputs": [],
   "source": [
    "# Concatenate the DataFrame and the Series\n",
    "#Fix this later, does not have the same data\n",
    "complete_date_apriori = threshold_feature_selection(0.95,X_transformed_df)\n",
    "complete_date_apriori.drop(columns=['TENURE','UHRSMAIN'],inplace=True)\n",
    "#Need to drop TENURE and UHRSMAIN because they scaled and transformed, but will need the original values in order to classify them below into 5 buckets.\n",
    "complete_date_apriori.shape"
   ]
  },
  {
   "cell_type": "code",
   "execution_count": null,
   "metadata": {},
   "outputs": [],
   "source": [
    "numeric_data=data5[['TENURE','UHRSMAIN','HRLYEARN']]\n",
    "#These are the continuous variables\n",
    "numeric_data.shape"
   ]
  },
  {
   "cell_type": "code",
   "execution_count": null,
   "metadata": {},
   "outputs": [],
   "source": [
    "# List of numerical features to be created into a bins\n",
    "numerical_variables = ['UHRSMAIN', 'TENURE','HRLYEARN']\n",
    "# Initializing the KBinsDiscretizer with 'quantile' strategy so that the labels are balanced. \n",
    "bin_maker = KBinsDiscretizer(n_bins=5, encode='ordinal', strategy='quantile')\n",
    "# Fit and transform the data\n",
    "numeric_data[numerical_variables] = bin_maker.fit_transform(numeric_data[numerical_variables])"
   ]
  },
  {
   "cell_type": "code",
   "execution_count": null,
   "metadata": {},
   "outputs": [],
   "source": [
    "# Select the columns to one-hot encode\n",
    "to_encode = numeric_data[numerical_variables]\n",
    "# Initialize the OneHotEncoder\n",
    "encoder = OneHotEncoder(sparse=False)\n",
    "# Fit and transform the selected columns\n",
    "encoded_features = encoder.fit_transform(to_encode)\n",
    "# Get the feature names after one-hot encoding\n",
    "encoded_feature_names = encoder.get_feature_names_out(numerical_variables)\n",
    "# Convert the result back to a DataFrame\n",
    "encoded_df = pd.DataFrame(encoded_features, columns=encoded_feature_names,  index=data5.index)\n",
    "#print(\"One-Hot Encoded DataFrame:\\n\", encoded_df.head())"
   ]
  },
  {
   "cell_type": "code",
   "execution_count": null,
   "metadata": {},
   "outputs": [],
   "source": [
    "encoded_df.shape"
   ]
  },
  {
   "cell_type": "code",
   "execution_count": null,
   "metadata": {},
   "outputs": [],
   "source": [
    "complete_date_apriori= complete_date_apriori.merge(encoded_df, left_index=True,right_index=True)\n",
    "#add back the one hot encoded variables to the data_aprori dataframe"
   ]
  },
  {
   "cell_type": "code",
   "execution_count": null,
   "metadata": {},
   "outputs": [],
   "source": [
    "complete_date_apriori.shape\n",
    "#This will be used for the aprioror algorithm"
   ]
  },
  {
   "cell_type": "code",
   "execution_count": null,
   "metadata": {},
   "outputs": [],
   "source": [
    "# Get the bin edges\n",
    "bin_edges = bin_maker.bin_edges_\n",
    "# Create a dictionary to map feature names to their bin edges\n",
    "bin_edges_dict = {feature: edges for feature, edges in zip(numerical_variables, bin_edges)}\n",
    "# Print bin edges for each feature\n",
    "for feature, edges in bin_edges_dict.items():\n",
    "    print(f\"Bin edges for {feature}: {edges}\")\n",
    "    # Prepare data for DataFrame\n",
    "bin_info = []\n",
    "for feature, edges in bin_edges_dict.items():\n",
    "    for i in range(len(edges) - 1):\n",
    "        bin_info.append({\n",
    "            'Feature': feature,\n",
    "            'Bin Index': i,\n",
    "            'Bin Start': edges[i],\n",
    "            'Bin End': edges[i + 1]\n",
    "        })\n",
    "# Create DataFrame from bin information\n",
    "bin_info_df = pd.DataFrame(bin_info)\n",
    "# Display the DataFrame\n",
    "print(bin_info_df)\n",
    "\n",
    "bin_info_df.to_excel('Binning Information Table.xlsx',index=False)"
   ]
  },
  {
   "cell_type": "markdown",
   "metadata": {},
   "source": [
    "### Running the Apriori Algorithm"
   ]
  },
  {
   "cell_type": "code",
   "execution_count": null,
   "metadata": {},
   "outputs": [],
   "source": [
    "# Apply the Apriori algorithm\n",
    "frequent_itemsets = apriori(complete_date_apriori, min_support=0.1, use_colnames=True)\n",
    "print(\"Frequent itemsets:\\n\", frequent_itemsets.head())\n",
    "\n",
    "# Extract association rules\n",
    "rules = association_rules(frequent_itemsets, metric=\"confidence\", min_threshold=0.6)\n",
    "#rint(\"Association rules:\\n\", rules.head())\n",
    "\n",
    "# Define the desired RHS items\n",
    "desired_rhs = ['HRLYEARN_0.0', 'HRLYEARN_1.0', 'HRLYEARN_2.0', 'HRLYEARN_3.0', 'HRLYEARN_4.0']\n",
    "\n",
    "# Filter rules by RHS\n",
    "filtered_rules = rules[rules['consequents'].apply(lambda x: any(item in x for item in desired_rhs))]\n",
    "\n",
    "print(\"Filtered association rules:\\n\", filtered_rules)\n",
    "\n"
   ]
  },
  {
   "cell_type": "code",
   "execution_count": null,
   "metadata": {},
   "outputs": [],
   "source": [
    "# Generate a report with the important rules\n",
    "report = filtered_rules[['antecedents', 'consequents', 'support', 'confidence', 'lift']]\n",
    "\n",
    "# Save the report to a CSV file\n",
    "#report.to_csv('important_association_rules_hrlyearn.csv', index=False)\n",
    "\n",
    "#print(\"Report generated: important_association_rules_hrlyearn.csv\")"
   ]
  },
  {
   "cell_type": "markdown",
   "metadata": {},
   "source": [
    "#### Creating the Features and Labeles For Non-Linear Regeression"
   ]
  },
  {
   "cell_type": "code",
   "execution_count": 78,
   "metadata": {},
   "outputs": [
    {
     "name": "stdout",
     "output_type": "stream",
     "text": [
      "(91424, 10)\n",
      "(91424, 2)\n"
     ]
    },
    {
     "name": "stderr",
     "output_type": "stream",
     "text": [
      "/var/folders/0f/v6wgxn554tx62wm1nqjqw5hw0000gn/T/ipykernel_14375/469146206.py:2: SettingWithCopyWarning: \n",
      "A value is trying to be set on a copy of a slice from a DataFrame\n",
      "\n",
      "See the caveats in the documentation: https://pandas.pydata.org/pandas-docs/stable/user_guide/indexing.html#returning-a-view-versus-a-copy\n",
      "  features.drop(columns=['TENURE','UHRSMAIN'],inplace=True)\n"
     ]
    }
   ],
   "source": [
    "features= threshold_feature_selection(0.54,X_transformed_df)\n",
    "features.drop(columns=['TENURE','UHRSMAIN'],inplace=True)\n",
    "#dropping these features because they are scaled, and we need to keep the original values for the non-linear models, and scaled later.\n",
    "continuous_features=data5[['TENURE', 'UHRSMAIN']]\n",
    "\n",
    "#features.to_excel('Features .xlsx',index=True)\n",
    "#continuous_features.to_excel('Continuous Features.xlsx',index=True)\n",
    "#data5['HRLYEARN'].to_excel('Response Variable.xlsx',index=True)\n",
    "\n",
    "features=features.merge(continuous_features,left_index=True,right_index=True)\n",
    "\n",
    "print(features.shape)\n",
    "print(continuous_features.shape)\n",
    "\n",
    "label = data5['HRLYEARN']\n",
    "#These will be used for the non-linear machine learning algoirthms. "
   ]
  },
  {
   "cell_type": "markdown",
   "metadata": {},
   "source": [
    "### Non-Linear Regression Models"
   ]
  },
  {
   "cell_type": "code",
   "execution_count": 80,
   "metadata": {},
   "outputs": [
    {
     "name": "stdout",
     "output_type": "stream",
     "text": [
      "  model  best_score                                        best_params\n",
      "0    RF   -0.408232  {'model__n_estimators': 400, 'model__min_sampl...\n"
     ]
    }
   ],
   "source": [
    "#This is Non-Linear Regression hyper tuning\n",
    "continuous_features = ['UHRSMAIN', 'TENURE']\n",
    "#Defining the continuous features\n",
    "\n",
    "preprocessor = ColumnTransformer(\n",
    "    transformers=[\n",
    "        ('num', MinMaxScaler(), continuous_features),\n",
    "    ])\n",
    "#Setting up the column transformer\n",
    "\n",
    "kf = KFold(n_splits=10, shuffle=True, random_state=42)\n",
    "#Initializing K-Folds\n",
    "\n",
    "param_grids = {\n",
    "    'XGB': {\n",
    "        'model__n_estimators': [1000],\n",
    "        'model__learning_rate': [0.05],\n",
    "        'model__max_depth': [3, 4, 5],\n",
    "        'model__subsample': [0.7, 0.8, 0.9],\n",
    "        'model__colsample_bytree': [0.7, 0.8, 0.9],\n",
    "        'model__gamma': [0, 1, 5],\n",
    "        'model__reg_alpha': [0, 1, 5]\n",
    "    },\n",
    "    #'DT': {\n",
    "    #    'model__criterion': ['mse'],\n",
    "    #    'model__splitter': ['best', 'random'],\n",
    "    #    'model__max_depth': [3, 4, 5],\n",
    "    #    'model__min_samples_split': [2, 3, 4],\n",
    "    #    'model__min_samples_leaf': [1, 2, 3]\n",
    "    #},\n",
    "    'RF': {\n",
    "        'model__n_estimators': np.arange(100, 1100, 100),\n",
    "        'model__max_features': ['sqrt', 'log2'],\n",
    "        'model__max_depth': [None, 3, 4, 5],\n",
    "        'model__min_samples_split': [2, 3, 4], \n",
    "        'model__min_samples_leaf': [1, 2, 3]\n",
    "\n",
    "    },\n",
    "    'SVR': {\n",
    "        'model__kernel': ['linear', 'poly', 'rbf', 'sigmoid'],\n",
    "        'model__degree': [2, 3, 4, 5],\n",
    "        'model__gamma': ['scale', 'auto'],\n",
    "        'model__C': [0.1, 1, 10, 100]\n",
    "    },\n",
    "    'KNN': {\n",
    "        'model__n_neighbors': [3, 5, 7, 9],\n",
    "        'model__weights': ['uniform', 'distance'],\n",
    "        'model__algorithm': ['auto', 'ball_tree', 'kd_tree', 'brute'],\n",
    "        'model__p': [1, 2]\n",
    "    },\n",
    "    'MLP': {\n",
    "        'model__hidden_layer_sizes': [(100,), (200,), (300,)],\n",
    "        'model__max_iter': [200, 300, 400]\n",
    "    },\n",
    "    'GB': {\n",
    "        'model__n_estimators': np.arange(100, 1100, 100),\n",
    "        'model__learning_rate': [0.05, 0.1, 0.2],\n",
    "        'model__max_depth': [3, 4, 5],\n",
    "        'model__subsample': [0.7, 0.8, 0.9],\n",
    "        'model__max_features': ['sqrt', 'log2'],\n",
    "        'model__min_samples_split': [2, 3, 4],\n",
    "        'model__min_samples_leaf': [1, 2, 3]\n",
    "    }\n",
    "}\n",
    "#Defining the parameter grids for each model\n",
    "\n",
    "\n",
    "models = {\n",
    "    #'XGB': XGBRegressor(),\n",
    "    #'DT': DecisionTreeRegressor(random_state=42)\n",
    "    'RF': RandomForestRegressor(random_state=42)\n",
    "    #,\n",
    "    #,'MLP':MLPRegressor()\n",
    "    #,'SVR': SVR()\n",
    "    #,'KNN': KNeighborsRegressor()\n",
    "    #,'GB': GradientBoostingRegressor()\n",
    "}\n",
    "# Defining each model\n",
    "\n",
    "# Perform RandomizedSearchCV for each model\n",
    "scores = []\n",
    "#creating an empty list to store the scores\n",
    "\n",
    "for model_name, model in models.items():\n",
    "    pipeline = Pipeline(steps=[\n",
    "        ('preprocessor', preprocessor),\n",
    "        ('model', model)\n",
    "    ])\n",
    "\n",
    "    \n",
    "    grid_search = RandomizedSearchCV(pipeline, param_distributions=param_grids[model_name], n_iter=10, cv=kf, random_state=42, scoring='neg_root_mean_squared_error',n_jobs=-1)\n",
    "    grid_result = grid_search.fit(features, label)\n",
    "    \n",
    "    scores.append({\n",
    "        'model': model_name,\n",
    "        'best_score': grid_result.best_score_,\n",
    "        'best_params': grid_result.best_params_\n",
    "    })\n",
    "#Running the randomized search for each model\n",
    "\n",
    "scores_df = pd.DataFrame(scores, columns=['model', 'best_score', 'best_params'])\n",
    "# Creating a datafreame for all the scores\n",
    "print(scores_df)"
   ]
  },
  {
   "cell_type": "code",
   "execution_count": 79,
   "metadata": {},
   "outputs": [
    {
     "data": {
      "text/plain": [
       "0.37377173868976665"
      ]
     },
     "execution_count": 79,
     "metadata": {},
     "output_type": "execute_result"
    }
   ],
   "source": [
    "#training the best model\n",
    "X_train, X_test, y_train, y_test = train_test_split(features, label, test_size=0.3, random_state=42)\n",
    "#splitting the data\n",
    "model = RandomForestRegressor()\n",
    "#initializing the model\n",
    "model.fit(X_train, y_train)\n",
    "#fitting the model\n",
    "y_pred = model.predict(X_test)\n",
    "#predicting the model\n",
    "RMSE = mean_squared_error(y_test, y_pred,squared=False)\n",
    "#calculating the r2 score\n",
    "RMSE"
   ]
  },
  {
   "cell_type": "code",
   "execution_count": 49,
   "metadata": {},
   "outputs": [
    {
     "data": {
      "text/plain": [
       "1.2932664394084883"
      ]
     },
     "execution_count": 49,
     "metadata": {},
     "output_type": "execute_result"
    }
   ],
   "source": [
    "np.exp(0.2571711415225991)"
   ]
  },
  {
   "cell_type": "markdown",
   "metadata": {},
   "source": [
    "#### Buliding the Dataset for Classifiers"
   ]
  },
  {
   "cell_type": "code",
   "execution_count": 66,
   "metadata": {},
   "outputs": [],
   "source": [
    "# Buliding Classifier dataset\n",
    "classifier_features = features.copy()\n",
    "classifier_label=label.copy()\n",
    "classifier_label=classifier_label.values.reshape(-1,1)"
   ]
  },
  {
   "cell_type": "code",
   "execution_count": 67,
   "metadata": {},
   "outputs": [
    {
     "name": "stdout",
     "output_type": "stream",
     "text": [
      "(91424, 42)\n",
      "(91424, 1)\n"
     ]
    }
   ],
   "source": [
    "#Converting the continuous label into a categorical one\n",
    "# Initializing the KBinsDiscretizer with 'quantile' strategy so that the label is balanced. \n",
    "bin_maker_for_classification = KBinsDiscretizer(n_bins=5, encode='ordinal', strategy='quantile')\n",
    "# Fit and transform the data\n",
    "classifier_label = bin_maker_for_classification.fit_transform(classifier_label)\n",
    "print(classifier_features.shape)\n",
    "print(classifier_label.shape)"
   ]
  },
  {
   "cell_type": "code",
   "execution_count": 70,
   "metadata": {},
   "outputs": [],
   "source": [
    "# Convert the raveled array back into a DataFrame\n",
    "#classifier_label_df = pd.DataFrame(classifier_label, columns=['classifier_label'], index=data5.index)\n",
    "classifier_label=classifier_label.ravel()"
   ]
  },
  {
   "cell_type": "markdown",
   "metadata": {},
   "source": [
    "### Classifier Models"
   ]
  },
  {
   "cell_type": "code",
   "execution_count": 73,
   "metadata": {},
   "outputs": [
    {
     "name": "stdout",
     "output_type": "stream",
     "text": [
      "KNN accuracy: 0.7234345091605141\n"
     ]
    }
   ],
   "source": [
    "# Splitting the data into train and test sets\n",
    "X_train, X_test, y_train, y_test = train_test_split(classifier_features, classifier_label, test_size=0.2, random_state=42)\n",
    "\n",
    "# Training and evaluating the KNN classifier\n",
    "knn = RandomForestClassifier()\n",
    "knn.fit(X_train, y_train)\n",
    "y_pred = knn.predict(X_test)\n",
    "accuracy = accuracy_score(y_test, y_pred)\n",
    "print(\"KNN accuracy:\", accuracy)\n"
   ]
  },
  {
   "cell_type": "markdown",
   "metadata": {},
   "source": [
    "#Basic models with no hyperparameter tuning\n",
    "lr_model=LogisticRegression()\n",
    "svc_model=SVC()\n",
    "dt_model=DecisionTreeClassifier()\n",
    "rf_model=RandomForestClassifier(n_estimators=1000)\n",
    "nb_model = GaussianNB()\n",
    "models=[lr_model,svc_model,dt_model,rf_model,nb_model]\n",
    "\n",
    "train_score=[]\n",
    "test_score=[]\n",
    "for model in models:\n",
    "    model.fit(X_train,y_train)\n",
    "    train_score.append(model.score(X_train,y_train))\n",
    "    test_score.append(model.score(X_test,y_test))\n",
    "    \n",
    "print(pd.DataFrame({'Train Score':list(np.array(train_score).reshape(-1,1)),'Test Score':list(np.array(test_score).reshape(-1,1))},columns=['Train Score','Test Score'], index=models))"
   ]
  },
  {
   "cell_type": "code",
   "execution_count": null,
   "metadata": {},
   "outputs": [],
   "source": [
    "#This is Classification hyper tuning\n",
    "continuous_features = ['UHRSMAIN', 'TENURE']\n",
    "#Defining the continuous features\n",
    "\n",
    "preprocessor = ColumnTransformer(\n",
    "    transformers=[\n",
    "        ('num', MinMaxScaler(), continuous_features)\n",
    "    ])\n",
    "#Setting up the column transformer\n",
    "\n",
    "kf = KFold(n_splits=10, shuffle=True, random_state=42)\n",
    "#Initializing K-Folds\n",
    "\n",
    "param_grids = {\n",
    "    'svm': {\n",
    "        'model__C': [0.1, 1, 10, 100],\n",
    "        'model__kernel': ['linear', 'poly', 'rbf', 'sigmoid'],\n",
    "        'model__degree': [2, 3, 4, 5],\n",
    "        'model__gamma': ['scale', 'auto']\n",
    "        \n",
    "    },\n",
    "    'decision_tree': {\n",
    "        'model__max_depth':[1,10,20,30,40,50,60,70,80,90,100],\n",
    "        'model__min_samples_split':[2,5,10,15,20,25,30,35,40,45,50,55,60,65,70,75,80,85,90,95,100]\n",
    "        \n",
    "    },\n",
    "    'random_forest': {\n",
    "        'model__n_estimators': [1,5,10,50,100,200,400,600,1200,2400]\n",
    "    },\n",
    "    'logistic_regression': {\n",
    "            'model__solver':['newton-cg'],\n",
    "            'model__C':np.logspace(-3,2,100),\n",
    "            'model__penalty' : ['l2']\n",
    "    }\n",
    "}\n",
    "#Defining the parameter grids for each model\n",
    "\n",
    "\n",
    "models = {\n",
    "    #'svm': SVC()\n",
    "    #,'decision_tree': DecisionTreeRegressor(random_state=42)\n",
    "    #,'random_forest': RandomForestRegressor(random_state=42)\n",
    "    ,'logistic_regression': LogisticRegression()\n",
    "\n",
    "}\n",
    "# Defining each model\n",
    "\n",
    "# Perform RandomizedSearchCV for each model\n",
    "scores = []\n",
    "#creating an empty list to store the scores\n",
    "\n",
    "for model_name, model in models.items():\n",
    "    pipeline_classifier = Pipeline(steps=[\n",
    "        ('preprocessor', preprocessor),\n",
    "        ('model', model)\n",
    "    ])\n",
    "\n",
    "\n",
    "    \n",
    "    grid_search = RandomizedSearchCV(pipeline_classifier, param_distributions=param_grids[model_name], n_iter=1, cv=kf, random_state=42, n_jobs=-1)\n",
    "    grid_result = grid_search.fit(features, label)\n",
    "    \n",
    "    scores.append({\n",
    "        'model': model_name,\n",
    "        'best_score': grid_result.best_score_,\n",
    "        'best_params': grid_result.best_params_\n",
    "    })\n",
    "#Running the randomized search for each model\n",
    "\n",
    "scores_df = pd.DataFrame(scores, columns=['model', 'best_score', 'best_params'])\n",
    "# Creating a datafreame for all the scores\n",
    "print(scores_df)\n"
   ]
  },
  {
   "cell_type": "code",
   "execution_count": null,
   "metadata": {},
   "outputs": [],
   "source": [
    "models={    \n",
    "    'svm':{\n",
    "        'model': SVC(),\n",
    "        'params': {\n",
    "            'gamma':['scale','auto'],\n",
    "            'C':np.logspace(-3,2,100),\n",
    "            'kernel': ['rbf']\n",
    "        }\n",
    "    },\n",
    "    \n",
    "    'random_forest':{\n",
    "        'model':RandomForestClassifier(),\n",
    "        'params':{\n",
    "            'n_estimators': [1,5,10,50,100,200,400,600,1200,2400]\n",
    "        }\n",
    "    },\n",
    "    'decision_tree':{\n",
    "        'model':DecisionTreeClassifier(),\n",
    "        'params': {\n",
    "            'max_depth':[1,10,20,30,40,50,60,70,80,90,100],\n",
    "            'min_samples_split':[2,5,10,15,20,25,30,35,40,45,50,55,60,65,70,75,80,85,90,95,100]\n",
    "        }\n",
    "            \n",
    "    },\n",
    "    'logistic_regression': {\n",
    "        'model': LogisticRegression(multi_class='multinomial'),\n",
    "        'params':{\n",
    "            'solver':['newton-cg'],\n",
    "            'C':np.logspace(-3,2,100),\n",
    "            'penalty' : ['l2']\n",
    "        }\n",
    "    }\n",
    "}"
   ]
  },
  {
   "cell_type": "code",
   "execution_count": null,
   "metadata": {},
   "outputs": [],
   "source": [
    "scores=[]\n",
    "cv = KFold(n_splits=10)\n",
    "for m, p in models.items():\n",
    "    grid_search=RandomizedSearchCV(estimator=p['model'],param_distributions=p['params'],n_jobs=-1, cv=cv, scoring='accuracy')\n",
    "    grid_result = grid_search.fit(classifier_features, classifier_label)\n",
    "    scores.append({\n",
    "        'model': m,\n",
    "        'best_score':grid_result.best_score_,\n",
    "        'best_params':grid_result.best_params_\n",
    "    })"
   ]
  },
  {
   "cell_type": "code",
   "execution_count": null,
   "metadata": {},
   "outputs": [],
   "source": [
    "lr_model=LogisticRegression()\n",
    "svc_model=SVC()\n",
    "dt_model=DecisionTreeClassifier()\n",
    "rf_model=RandomForestClassifier(n_estimators=1000)\n",
    "nb_model = GaussianNB()\n",
    "models=[lr_model,svc_model,dt_model,rf_model,nb_model]\n",
    "\n",
    "train_score=[]\n",
    "test_score=[]\n",
    "for model in models:\n",
    "    model.fit(classifier_features,classifier_label)\n",
    "    train_score.append(model.score(classifier_features,classifier_label))\n",
    "\n",
    "    \n",
    "print(pd.DataFrame({'Train Score':list(np.array(train_score).reshape(-1,1))}, index=models))\n"
   ]
  }
 ],
 "metadata": {
  "kernelspec": {
   "display_name": "base",
   "language": "python",
   "name": "python3"
  },
  "language_info": {
   "codemirror_mode": {
    "name": "ipython",
    "version": 3
   },
   "file_extension": ".py",
   "mimetype": "text/x-python",
   "name": "python",
   "nbconvert_exporter": "python",
   "pygments_lexer": "ipython3",
   "version": "3.9.16"
  }
 },
 "nbformat": 4,
 "nbformat_minor": 2
}
